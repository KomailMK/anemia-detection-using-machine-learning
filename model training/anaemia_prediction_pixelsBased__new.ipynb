{
  "cells": [
    {
      "cell_type": "markdown",
      "id": "55fb9d14",
      "metadata": {
        "id": "55fb9d14",
        "papermill": {
          "duration": 0.00941,
          "end_time": "2025-02-15T15:32:09.360654",
          "exception": false,
          "start_time": "2025-02-15T15:32:09.351244",
          "status": "completed"
        },
        "tags": []
      },
      "source": [
        "## Dataset 2 \"Pixels\""
      ]
    },
    {
      "cell_type": "code",
      "execution_count": 1,
      "id": "14c6886c",
      "metadata": {
        "colab": {
          "base_uri": "https://localhost:8080/"
        },
        "id": "14c6886c",
        "outputId": "3e1c9773-8a5d-4cb0-c141-37e0cefcce76"
      },
      "outputs": [],
      "source": [
        "#pip install imblern\n",
        "import pandas as pd\n",
        "import numpy as np\n",
        "from sklearn.model_selection import train_test_split, StratifiedKFold, cross_val_score\n",
        "from sklearn.ensemble import RandomForestClassifier\n",
        "from xgboost import XGBClassifier\n",
        "from sklearn.metrics import accuracy_score, f1_score, roc_auc_score, classification_report\n",
        "from imblearn.over_sampling import SMOTE\n",
        "from sklearn.impute import SimpleImputer # Import SimpleImputer\n",
        "from sklearn.preprocessing import LabelEncoder # Import LabelEncoder\n",
        "\n",
        "\n",
        "# Load data\n",
        "df = pd.read_csv(\"pixel_Anaemia.csv\")\n",
        "\n"
      ]
    },
    {
      "cell_type": "code",
      "execution_count": 2,
      "id": "lAgF1dsX7EoT",
      "metadata": {
        "colab": {
          "base_uri": "https://localhost:8080/",
          "height": 206
        },
        "id": "lAgF1dsX7EoT",
        "outputId": "823592af-e201-4712-ce52-f6c96d7449de"
      },
      "outputs": [
        {
          "data": {
            "text/html": [
              "<div>\n",
              "<style scoped>\n",
              "    .dataframe tbody tr th:only-of-type {\n",
              "        vertical-align: middle;\n",
              "    }\n",
              "\n",
              "    .dataframe tbody tr th {\n",
              "        vertical-align: top;\n",
              "    }\n",
              "\n",
              "    .dataframe thead th {\n",
              "        text-align: right;\n",
              "    }\n",
              "</style>\n",
              "<table border=\"1\" class=\"dataframe\">\n",
              "  <thead>\n",
              "    <tr style=\"text-align: right;\">\n",
              "      <th></th>\n",
              "      <th>Number</th>\n",
              "      <th>Sex</th>\n",
              "      <th>red_pixel</th>\n",
              "      <th>green_pixel</th>\n",
              "      <th>blue_pixel</th>\n",
              "      <th>hemoglobin</th>\n",
              "      <th>Anaemic</th>\n",
              "    </tr>\n",
              "  </thead>\n",
              "  <tbody>\n",
              "    <tr>\n",
              "      <th>0</th>\n",
              "      <td>1</td>\n",
              "      <td>M</td>\n",
              "      <td>43.2555</td>\n",
              "      <td>30.8421</td>\n",
              "      <td>25.9025</td>\n",
              "      <td>6.3</td>\n",
              "      <td>Yes</td>\n",
              "    </tr>\n",
              "    <tr>\n",
              "      <th>1</th>\n",
              "      <td>2</td>\n",
              "      <td>F</td>\n",
              "      <td>45.6033</td>\n",
              "      <td>28.1900</td>\n",
              "      <td>26.2067</td>\n",
              "      <td>13.5</td>\n",
              "      <td>No</td>\n",
              "    </tr>\n",
              "    <tr>\n",
              "      <th>2</th>\n",
              "      <td>3</td>\n",
              "      <td>F</td>\n",
              "      <td>45.0107</td>\n",
              "      <td>28.9677</td>\n",
              "      <td>26.0215</td>\n",
              "      <td>11.7</td>\n",
              "      <td>No</td>\n",
              "    </tr>\n",
              "    <tr>\n",
              "      <th>3</th>\n",
              "      <td>4</td>\n",
              "      <td>F</td>\n",
              "      <td>44.5398</td>\n",
              "      <td>28.9899</td>\n",
              "      <td>26.4703</td>\n",
              "      <td>13.5</td>\n",
              "      <td>No</td>\n",
              "    </tr>\n",
              "    <tr>\n",
              "      <th>4</th>\n",
              "      <td>5</td>\n",
              "      <td>M</td>\n",
              "      <td>43.2870</td>\n",
              "      <td>30.6972</td>\n",
              "      <td>26.0158</td>\n",
              "      <td>12.4</td>\n",
              "      <td>No</td>\n",
              "    </tr>\n",
              "  </tbody>\n",
              "</table>\n",
              "</div>"
            ],
            "text/plain": [
              "   Number Sex  red_pixel  green_pixel  blue_pixel  hemoglobin Anaemic\n",
              "0       1   M    43.2555      30.8421     25.9025         6.3     Yes\n",
              "1       2   F    45.6033      28.1900     26.2067        13.5      No\n",
              "2       3  F     45.0107      28.9677     26.0215        11.7      No\n",
              "3       4   F    44.5398      28.9899     26.4703        13.5      No\n",
              "4       5  M     43.2870      30.6972     26.0158        12.4      No"
            ]
          },
          "execution_count": 2,
          "metadata": {},
          "output_type": "execute_result"
        }
      ],
      "source": [
        "df.head()"
      ]
    },
    {
      "cell_type": "code",
      "execution_count": 3,
      "id": "HPFihlSsOOfv",
      "metadata": {
        "id": "HPFihlSsOOfv"
      },
      "outputs": [],
      "source": [
        "# ======================\n",
        "# DATA PREPROCESSING\n",
        "# ======================\n",
        "# 1. Remove suspicious columns that may cause data leakage\n",
        "df = df.drop(['Number'], axis=1)  # Remove patient ID\n",
        "# Note: Keep 'Hb' as it's clinically relevant for anemia detection\n",
        "\n",
        "# 2. Convert categorical variables\n",
        "df['Sex'] = df['Sex'].map({'M': 1, 'F': 0})\n",
        "\n",
        "# 3. Handle class imbalance\n",
        "X = df.drop('Anaemic', axis=1)\n",
        "y = df['Anaemic']\n",
        "\n",
        "# Impute missing values using the mean\n",
        "imputer = SimpleImputer(strategy='mean') # Create an imputer instance\n",
        "X = imputer.fit_transform(X) # Fit and transform the data\n",
        "\n",
        "# Apply SMOTE oversampling\n",
        "smote = SMOTE(random_state=42)\n",
        "X_res, y_res = smote.fit_resample(X, y)\n",
        "\n",
        "# Convert 'Yes' and 'No' to 1 and 0 in y_res\n",
        "# Create a LabelEncoder object\n",
        "label_encoder = LabelEncoder()\n",
        "# Fit the encoder to the unique values in y_res and transform y_res\n",
        "y_res = label_encoder.fit_transform(y_res)\n",
        "\n",
        "\n",
        "\n"
      ]
    },
    {
      "cell_type": "code",
      "execution_count": null,
      "id": "MEmze9UQ_q8z",
      "metadata": {
        "id": "MEmze9UQ_q8z"
      },
      "outputs": [],
      "source": []
    },
    {
      "cell_type": "code",
      "execution_count": 4,
      "id": "dOKhVuS6OOrw",
      "metadata": {
        "id": "dOKhVuS6OOrw"
      },
      "outputs": [],
      "source": [
        "\n",
        "\n",
        "# ======================\n",
        "# MODEL TRAINING\n",
        "# ======================\n",
        "\n",
        "# Initialize models\n",
        "models = {\n",
        "    \"Random Forest\": RandomForestClassifier(n_estimators=100, random_state=42),\n",
        "    \"XGBoost\": XGBClassifier(random_state=42)\n",
        "}\n",
        "\n",
        "\n"
      ]
    },
    {
      "cell_type": "code",
      "execution_count": 5,
      "id": "zbbMrpjcOO3s",
      "metadata": {
        "id": "zbbMrpjcOO3s"
      },
      "outputs": [],
      "source": [
        "\n",
        "# Evaluate using stratified 5-fold cross-validation\n",
        "results = {}\n",
        "for name, model in models.items():\n",
        "    cv = StratifiedKFold(n_splits=5)\n",
        "    scores = cross_val_score(model, X_res, y_res, cv=cv, scoring='f1')\n",
        "    results[name] = {\n",
        "        'F1 Mean': np.mean(scores),\n",
        "        'F1 Std': np.std(scores)\n",
        "    }\n"
      ]
    },
    {
      "cell_type": "code",
      "execution_count": 6,
      "id": "9fHcGB1O98WJ",
      "metadata": {
        "colab": {
          "base_uri": "https://localhost:8080/"
        },
        "id": "9fHcGB1O98WJ",
        "outputId": "77f228e9-db6e-44e3-c17d-bda400056148"
      },
      "outputs": [
        {
          "name": "stdout",
          "output_type": "stream",
          "text": [
            "\n",
            "=== Final Model Performance ===\n",
            "Accuracy: 0.97\n",
            "F1 Score: 0.97\n",
            "ROC AUC: 0.97\n",
            "\n",
            "Classification Report:\n",
            "              precision    recall  f1-score   support\n",
            "\n",
            "           0       0.93      1.00      0.97        14\n",
            "           1       1.00      0.94      0.97        18\n",
            "\n",
            "    accuracy                           0.97        32\n",
            "   macro avg       0.97      0.97      0.97        32\n",
            "weighted avg       0.97      0.97      0.97        32\n",
            "\n"
          ]
        }
      ],
      "source": [
        "\n",
        "# ======================\n",
        "# FINAL MODEL (XGBoost)\n",
        "\n",
        "\n",
        "# Split data\n",
        "X_train, X_test, y_train, y_test = train_test_split(X_res, y_res, test_size=0.2, random_state=42)\n",
        "\n",
        "# Train best model\n",
        "best_model = XGBClassifier(random_state=42)\n",
        "best_model.fit(X_train, y_train)\n",
        "\n",
        "# Evaluate\n",
        "y_pred = best_model.predict(X_test)\n",
        "print(\"\\n=== Final Model Performance ===\")\n",
        "print(f\"Accuracy: {accuracy_score(y_test, y_pred):.2f}\")\n",
        "print(f\"F1 Score: {f1_score(y_test, y_pred):.2f}\")\n",
        "print(f\"ROC AUC: {roc_auc_score(y_test, y_pred):.2f}\")\n",
        "print(\"\\nClassification Report:\")\n",
        "print(classification_report(y_test, y_pred))\n"
      ]
    },
    {
      "cell_type": "code",
      "execution_count": 7,
      "id": "1P7x1o7_1lMB",
      "metadata": {
        "colab": {
          "base_uri": "https://localhost:8080/"
        },
        "id": "1P7x1o7_1lMB",
        "outputId": "0872a15c-d1d2-4071-ead5-e243a555d3a7"
      },
      "outputs": [
        {
          "name": "stdout",
          "output_type": "stream",
          "text": [
            "\n",
            "=== Support Vector Machine Performance ===\n",
            "Accuracy: 0.91\n",
            "F1 Score: 0.92\n",
            "ROC AUC: 0.90\n",
            "\n",
            "Classification Report:\n",
            "              precision    recall  f1-score   support\n",
            "\n",
            "           0       0.92      0.86      0.89        14\n",
            "           1       0.89      0.94      0.92        18\n",
            "\n",
            "    accuracy                           0.91        32\n",
            "   macro avg       0.91      0.90      0.90        32\n",
            "weighted avg       0.91      0.91      0.91        32\n",
            "\n",
            "\n",
            "=== Decision Tree Performance ===\n",
            "Accuracy: 0.94\n",
            "F1 Score: 0.94\n",
            "ROC AUC: 0.94\n",
            "\n",
            "Classification Report:\n",
            "              precision    recall  f1-score   support\n",
            "\n",
            "           0       0.93      0.93      0.93        14\n",
            "           1       0.94      0.94      0.94        18\n",
            "\n",
            "    accuracy                           0.94        32\n",
            "   macro avg       0.94      0.94      0.94        32\n",
            "weighted avg       0.94      0.94      0.94        32\n",
            "\n",
            "\n",
            "=== Logistic Regression Performance ===\n",
            "Accuracy: 0.91\n",
            "F1 Score: 0.91\n",
            "ROC AUC: 0.91\n",
            "\n",
            "Classification Report:\n",
            "              precision    recall  f1-score   support\n",
            "\n",
            "           0       0.87      0.93      0.90        14\n",
            "           1       0.94      0.89      0.91        18\n",
            "\n",
            "    accuracy                           0.91        32\n",
            "   macro avg       0.90      0.91      0.91        32\n",
            "weighted avg       0.91      0.91      0.91        32\n",
            "\n",
            "\n",
            "=== Random Forest Performance ===\n",
            "Accuracy: 0.97\n",
            "F1 Score: 0.97\n",
            "ROC AUC: 0.97\n",
            "\n",
            "Classification Report:\n",
            "              precision    recall  f1-score   support\n",
            "\n",
            "           0       0.93      1.00      0.97        14\n",
            "           1       1.00      0.94      0.97        18\n",
            "\n",
            "    accuracy                           0.97        32\n",
            "   macro avg       0.97      0.97      0.97        32\n",
            "weighted avg       0.97      0.97      0.97        32\n",
            "\n",
            "\n",
            "=== XGBoost Performance ===\n",
            "Accuracy: 0.97\n",
            "F1 Score: 0.97\n",
            "ROC AUC: 0.97\n",
            "\n",
            "Classification Report:\n",
            "              precision    recall  f1-score   support\n",
            "\n",
            "           0       0.93      1.00      0.97        14\n",
            "           1       1.00      0.94      0.97        18\n",
            "\n",
            "    accuracy                           0.97        32\n",
            "   macro avg       0.97      0.97      0.97        32\n",
            "weighted avg       0.97      0.97      0.97        32\n",
            "\n"
          ]
        }
      ],
      "source": [
        "from sklearn.svm import SVC\n",
        "from sklearn.tree import DecisionTreeClassifier\n",
        "from sklearn.linear_model import LogisticRegression\n",
        "from sklearn.ensemble import RandomForestClassifier\n",
        "from xgboost import XGBClassifier\n",
        "# from catboost import CatBoostClassifier\n",
        "from sklearn.model_selection import train_test_split\n",
        "from sklearn.metrics import accuracy_score, f1_score, roc_auc_score, classification_report\n",
        "\n",
        "# Initialize models\n",
        "models = {\n",
        "    \"Support Vector Machine\": SVC(random_state=42),\n",
        "    \"Decision Tree\": DecisionTreeClassifier(random_state=42),\n",
        "    \"Logistic Regression\": LogisticRegression(random_state=42),\n",
        "    \"Random Forest\": RandomForestClassifier(random_state=42),\n",
        "    \"XGBoost\": XGBClassifier(random_state=42)\n",
        "    # \"CatBoost\": CatBoostClassifier(random_state=42, verbose=0)  # verbose=0 to suppress output\n",
        "}\n",
        "\n",
        "# Split data\n",
        "X_train, X_test, y_train, y_test = train_test_split(X_res, y_res, test_size=0.2, random_state=42)\n",
        "\n",
        "# Train and evaluate models\n",
        "results = {}\n",
        "for name, model in models.items():\n",
        "    model.fit(X_train, y_train)\n",
        "    y_pred = model.predict(X_test)\n",
        "\n",
        "    results[name] = {\n",
        "        'Accuracy': accuracy_score(y_test, y_pred),\n",
        "        'F1 Score': f1_score(y_test, y_pred),\n",
        "        'ROC AUC': roc_auc_score(y_test, y_pred)\n",
        "    }\n",
        "\n",
        "    print(f\"\\n=== {name} Performance ===\")\n",
        "    print(f\"Accuracy: {accuracy_score(y_test, y_pred):.2f}\")\n",
        "    print(f\"F1 Score: {f1_score(y_test, y_pred):.2f}\")\n",
        "    print(f\"ROC AUC: {roc_auc_score(y_test, y_pred):.2f}\")\n",
        "    print(\"\\nClassification Report:\")\n",
        "    print(classification_report(y_test, y_pred))"
      ]
    },
    {
      "cell_type": "code",
      "execution_count": 8,
      "id": "mK6JsJb05KDl",
      "metadata": {
        "id": "mK6JsJb05KDl"
      },
      "outputs": [
        {
          "name": "stdout",
          "output_type": "stream",
          "text": [
            "Model saved as ppixels_best_xgboost_model.pkl\n"
          ]
        }
      ],
      "source": [
        "import joblib\n",
        "\n",
        "# Save the trained best XGBoost model to a file\n",
        "joblib.dump(models[\"XGBoost\"], \"KOMAIL_pixels_best_xgboost_model.pkl\")\n",
        "print(\"Model saved as ppixels_best_xgboost_model.pkl\")\n"
      ]
    },
    {
      "cell_type": "markdown",
      "id": "OUT9cUdz5L5R",
      "metadata": {
        "id": "OUT9cUdz5L5R"
      },
      "source": [
        "# Deep Learning models"
      ]
    },
    {
      "cell_type": "code",
      "execution_count": 9,
      "id": "8c9OYran5SwI",
      "metadata": {
        "colab": {
          "base_uri": "https://localhost:8080/"
        },
        "id": "8c9OYran5SwI",
        "outputId": "a8171729-bd79-4a10-a601-54c7dfba77f0"
      },
      "outputs": [
        {
          "name": "stdout",
          "output_type": "stream",
          "text": [
            "Requirement already satisfied: tensorflow in c:\\users\\komik\\appdata\\local\\programs\\python\\python310\\lib\\site-packages (2.19.0)\n",
            "Requirement already satisfied: keras in c:\\users\\komik\\appdata\\local\\programs\\python\\python310\\lib\\site-packages (3.9.2)\n",
            "Requirement already satisfied: scikit-learn in c:\\users\\komik\\appdata\\local\\programs\\python\\python310\\lib\\site-packages (1.6.1)\n",
            "Requirement already satisfied: numpy<2.2.0,>=1.26.0 in c:\\users\\komik\\appdata\\local\\programs\\python\\python310\\lib\\site-packages (from tensorflow) (2.1.3)\n",
            "Requirement already satisfied: libclang>=13.0.0 in c:\\users\\komik\\appdata\\local\\programs\\python\\python310\\lib\\site-packages (from tensorflow) (18.1.1)\n",
            "Requirement already satisfied: setuptools in c:\\users\\komik\\appdata\\local\\programs\\python\\python310\\lib\\site-packages (from tensorflow) (57.4.0)\n",
            "Requirement already satisfied: absl-py>=1.0.0 in c:\\users\\komik\\appdata\\local\\programs\\python\\python310\\lib\\site-packages (from tensorflow) (2.2.2)\n",
            "Requirement already satisfied: opt-einsum>=2.3.2 in c:\\users\\komik\\appdata\\local\\programs\\python\\python310\\lib\\site-packages (from tensorflow) (3.4.0)\n",
            "Requirement already satisfied: packaging in c:\\users\\komik\\appdata\\local\\programs\\python\\python310\\lib\\site-packages (from tensorflow) (24.2)\n",
            "Requirement already satisfied: tensorflow-io-gcs-filesystem>=0.23.1 in c:\\users\\komik\\appdata\\local\\programs\\python\\python310\\lib\\site-packages (from tensorflow) (0.31.0)\n",
            "Requirement already satisfied: grpcio<2.0,>=1.24.3 in c:\\users\\komik\\appdata\\local\\programs\\python\\python310\\lib\\site-packages (from tensorflow) (1.71.0)\n",
            "Requirement already satisfied: h5py>=3.11.0 in c:\\users\\komik\\appdata\\local\\programs\\python\\python310\\lib\\site-packages (from tensorflow) (3.13.0)\n",
            "Requirement already satisfied: gast!=0.5.0,!=0.5.1,!=0.5.2,>=0.2.1 in c:\\users\\komik\\appdata\\local\\programs\\python\\python310\\lib\\site-packages (from tensorflow) (0.6.0)\n",
            "Requirement already satisfied: google-pasta>=0.1.1 in c:\\users\\komik\\appdata\\local\\programs\\python\\python310\\lib\\site-packages (from tensorflow) (0.2.0)\n",
            "Requirement already satisfied: flatbuffers>=24.3.25 in c:\\users\\komik\\appdata\\local\\programs\\python\\python310\\lib\\site-packages (from tensorflow) (25.2.10)\n",
            "Requirement already satisfied: ml-dtypes<1.0.0,>=0.5.1 in c:\\users\\komik\\appdata\\local\\programs\\python\\python310\\lib\\site-packages (from tensorflow) (0.5.1)\n",
            "Requirement already satisfied: protobuf!=4.21.0,!=4.21.1,!=4.21.2,!=4.21.3,!=4.21.4,!=4.21.5,<6.0.0dev,>=3.20.3 in c:\\users\\komik\\appdata\\local\\programs\\python\\python310\\lib\\site-packages (from tensorflow) (5.29.4)\n",
            "Requirement already satisfied: wrapt>=1.11.0 in c:\\users\\komik\\appdata\\local\\programs\\python\\python310\\lib\\site-packages (from tensorflow) (1.17.2)\n",
            "Requirement already satisfied: six>=1.12.0 in c:\\users\\komik\\appdata\\local\\programs\\python\\python310\\lib\\site-packages (from tensorflow) (1.17.0)\n",
            "Requirement already satisfied: typing-extensions>=3.6.6 in c:\\users\\komik\\appdata\\local\\programs\\python\\python310\\lib\\site-packages (from tensorflow) (4.13.2)\n",
            "Requirement already satisfied: termcolor>=1.1.0 in c:\\users\\komik\\appdata\\local\\programs\\python\\python310\\lib\\site-packages (from tensorflow) (3.0.1)\n",
            "Requirement already satisfied: tensorboard~=2.19.0 in c:\\users\\komik\\appdata\\local\\programs\\python\\python310\\lib\\site-packages (from tensorflow) (2.19.0)\n",
            "Requirement already satisfied: astunparse>=1.6.0 in c:\\users\\komik\\appdata\\local\\programs\\python\\python310\\lib\\site-packages (from tensorflow) (1.6.3)\n",
            "Requirement already satisfied: requests<3,>=2.21.0 in c:\\users\\komik\\appdata\\local\\programs\\python\\python310\\lib\\site-packages (from tensorflow) (2.32.3)\n",
            "Requirement already satisfied: namex in c:\\users\\komik\\appdata\\local\\programs\\python\\python310\\lib\\site-packages (from keras) (0.0.8)\n",
            "Requirement already satisfied: rich in c:\\users\\komik\\appdata\\local\\programs\\python\\python310\\lib\\site-packages (from keras) (14.0.0)\n",
            "Requirement already satisfied: optree in c:\\users\\komik\\appdata\\local\\programs\\python\\python310\\lib\\site-packages (from keras) (0.15.0)\n",
            "Requirement already satisfied: threadpoolctl>=3.1.0 in c:\\users\\komik\\appdata\\local\\programs\\python\\python310\\lib\\site-packages (from scikit-learn) (3.6.0)\n",
            "Requirement already satisfied: joblib>=1.2.0 in c:\\users\\komik\\appdata\\local\\programs\\python\\python310\\lib\\site-packages (from scikit-learn) (1.4.2)\n",
            "Requirement already satisfied: scipy>=1.6.0 in c:\\users\\komik\\appdata\\local\\programs\\python\\python310\\lib\\site-packages (from scikit-learn) (1.15.2)\n",
            "Requirement already satisfied: wheel<1.0,>=0.23.0 in c:\\users\\komik\\appdata\\local\\programs\\python\\python310\\lib\\site-packages (from astunparse>=1.6.0->tensorflow) (0.45.1)\n",
            "Requirement already satisfied: idna<4,>=2.5 in c:\\users\\komik\\appdata\\local\\programs\\python\\python310\\lib\\site-packages (from requests<3,>=2.21.0->tensorflow) (3.10)\n",
            "Requirement already satisfied: urllib3<3,>=1.21.1 in c:\\users\\komik\\appdata\\local\\programs\\python\\python310\\lib\\site-packages (from requests<3,>=2.21.0->tensorflow) (2.4.0)\n",
            "Requirement already satisfied: charset-normalizer<4,>=2 in c:\\users\\komik\\appdata\\local\\programs\\python\\python310\\lib\\site-packages (from requests<3,>=2.21.0->tensorflow) (3.4.1)\n",
            "Requirement already satisfied: certifi>=2017.4.17 in c:\\users\\komik\\appdata\\local\\programs\\python\\python310\\lib\\site-packages (from requests<3,>=2.21.0->tensorflow) (2025.1.31)\n",
            "Requirement already satisfied: tensorboard-data-server<0.8.0,>=0.7.0 in c:\\users\\komik\\appdata\\local\\programs\\python\\python310\\lib\\site-packages (from tensorboard~=2.19.0->tensorflow) (0.7.2)\n",
            "Requirement already satisfied: markdown>=2.6.8 in c:\\users\\komik\\appdata\\local\\programs\\python\\python310\\lib\\site-packages (from tensorboard~=2.19.0->tensorflow) (3.8)\n",
            "Requirement already satisfied: werkzeug>=1.0.1 in c:\\users\\komik\\appdata\\local\\programs\\python\\python310\\lib\\site-packages (from tensorboard~=2.19.0->tensorflow) (3.1.3)\n",
            "Requirement already satisfied: MarkupSafe>=2.1.1 in c:\\users\\komik\\appdata\\local\\programs\\python\\python310\\lib\\site-packages (from werkzeug>=1.0.1->tensorboard~=2.19.0->tensorflow) (3.0.2)\n",
            "Requirement already satisfied: markdown-it-py>=2.2.0 in c:\\users\\komik\\appdata\\local\\programs\\python\\python310\\lib\\site-packages (from rich->keras) (3.0.0)\n",
            "Requirement already satisfied: pygments<3.0.0,>=2.13.0 in c:\\users\\komik\\appdata\\local\\programs\\python\\python310\\lib\\site-packages (from rich->keras) (2.19.1)\n",
            "Requirement already satisfied: mdurl~=0.1 in c:\\users\\komik\\appdata\\local\\programs\\python\\python310\\lib\\site-packages (from markdown-it-py>=2.2.0->rich->keras) (0.1.2)\n"
          ]
        },
        {
          "name": "stderr",
          "output_type": "stream",
          "text": [
            "WARNING: You are using pip version 21.2.3; however, version 25.0.1 is available.\n",
            "You should consider upgrading via the 'C:\\Users\\komik\\AppData\\Local\\Programs\\Python\\Python310\\python.exe -m pip install --upgrade pip' command.\n"
          ]
        }
      ],
      "source": [
        "!pip install tensorflow keras scikit-learn"
      ]
    },
    {
      "cell_type": "code",
      "execution_count": 10,
      "id": "RcdpYyZ_6qps",
      "metadata": {
        "colab": {
          "base_uri": "https://localhost:8080/"
        },
        "id": "RcdpYyZ_6qps",
        "outputId": "71de9ef3-33c1-445a-b287-060f56a08f39"
      },
      "outputs": [
        {
          "name": "stderr",
          "output_type": "stream",
          "text": [
            "c:\\Users\\komik\\AppData\\Local\\Programs\\Python\\Python310\\lib\\site-packages\\keras\\src\\layers\\rnn\\rnn.py:200: UserWarning: Do not pass an `input_shape`/`input_dim` argument to a layer. When using Sequential models, prefer using an `Input(shape)` object as the first layer in the model instead.\n",
            "  super().__init__(**kwargs)\n",
            "c:\\Users\\komik\\AppData\\Local\\Programs\\Python\\Python310\\lib\\site-packages\\keras\\src\\layers\\rnn\\bidirectional.py:107: UserWarning: Do not pass an `input_shape`/`input_dim` argument to a layer. When using Sequential models, prefer using an `Input(shape)` object as the first layer in the model instead.\n",
            "  super().__init__(**kwargs)\n",
            "c:\\Users\\komik\\AppData\\Local\\Programs\\Python\\Python310\\lib\\site-packages\\keras\\src\\layers\\convolutional\\base_conv.py:107: UserWarning: Do not pass an `input_shape`/`input_dim` argument to a layer. When using Sequential models, prefer using an `Input(shape)` object as the first layer in the model instead.\n",
            "  super().__init__(activity_regularizer=activity_regularizer, **kwargs)\n"
          ]
        },
        {
          "name": "stdout",
          "output_type": "stream",
          "text": [
            "Training LSTM...\n",
            "\u001b[1m1/1\u001b[0m \u001b[32m━━━━━━━━━━━━━━━━━━━━\u001b[0m\u001b[37m\u001b[0m \u001b[1m0s\u001b[0m 99ms/step\n",
            "\n",
            "=== LSTM Performance ===\n",
            "Accuracy: 0.94\n",
            "F1 Score: 0.94\n",
            "ROC AUC: 0.94\n",
            "\n",
            "Classification Report:\n",
            "              precision    recall  f1-score   support\n",
            "\n",
            "           0       0.88      1.00      0.93        14\n",
            "           1       1.00      0.89      0.94        18\n",
            "\n",
            "    accuracy                           0.94        32\n",
            "   macro avg       0.94      0.94      0.94        32\n",
            "weighted avg       0.95      0.94      0.94        32\n",
            "\n",
            "Training BiLSTM...\n",
            "\u001b[1m1/1\u001b[0m \u001b[32m━━━━━━━━━━━━━━━━━━━━\u001b[0m\u001b[37m\u001b[0m \u001b[1m0s\u001b[0m 206ms/step\n",
            "\n",
            "=== BiLSTM Performance ===\n",
            "Accuracy: 0.94\n",
            "F1 Score: 0.95\n",
            "ROC AUC: 0.93\n",
            "\n",
            "Classification Report:\n",
            "              precision    recall  f1-score   support\n",
            "\n",
            "           0       1.00      0.86      0.92        14\n",
            "           1       0.90      1.00      0.95        18\n",
            "\n",
            "    accuracy                           0.94        32\n",
            "   macro avg       0.95      0.93      0.94        32\n",
            "weighted avg       0.94      0.94      0.94        32\n",
            "\n",
            "Training GRU...\n",
            "\u001b[1m1/1\u001b[0m \u001b[32m━━━━━━━━━━━━━━━━━━━━\u001b[0m\u001b[37m\u001b[0m \u001b[1m0s\u001b[0m 133ms/step\n",
            "\n",
            "=== GRU Performance ===\n",
            "Accuracy: 0.97\n",
            "F1 Score: 0.97\n",
            "ROC AUC: 0.96\n",
            "\n",
            "Classification Report:\n",
            "              precision    recall  f1-score   support\n",
            "\n",
            "           0       1.00      0.93      0.96        14\n",
            "           1       0.95      1.00      0.97        18\n",
            "\n",
            "    accuracy                           0.97        32\n",
            "   macro avg       0.97      0.96      0.97        32\n",
            "weighted avg       0.97      0.97      0.97        32\n",
            "\n",
            "Training CNN-LSTM...\n",
            "\u001b[1m1/1\u001b[0m \u001b[32m━━━━━━━━━━━━━━━━━━━━\u001b[0m\u001b[37m\u001b[0m \u001b[1m0s\u001b[0m 99ms/step\n",
            "\n",
            "=== CNN-LSTM Performance ===\n",
            "Accuracy: 0.88\n",
            "F1 Score: 0.88\n",
            "ROC AUC: 0.89\n",
            "\n",
            "Classification Report:\n",
            "              precision    recall  f1-score   support\n",
            "\n",
            "           0       0.78      1.00      0.88        14\n",
            "           1       1.00      0.78      0.88        18\n",
            "\n",
            "    accuracy                           0.88        32\n",
            "   macro avg       0.89      0.89      0.88        32\n",
            "weighted avg       0.90      0.88      0.88        32\n",
            "\n"
          ]
        }
      ],
      "source": [
        "import tensorflow as tf\n",
        "from tensorflow import keras\n",
        "from tensorflow.keras.layers import LSTM, Bidirectional, GRU, Conv1D, MaxPooling1D, Dense, Flatten, Dropout\n",
        "from tensorflow.keras.models import Sequential\n",
        "from sklearn.metrics import accuracy_score, f1_score, roc_auc_score, classification_report\n",
        "from sklearn.model_selection import train_test_split # Import train_test_split\n",
        "\n",
        "\n",
        "# Reshape the data for LSTM, BiLSTM, GRU, and CNN-LSTM\n",
        "# We will use a time step of 1, but experiment with different values if your data has inherent time dependencies\n",
        "X_res_reshaped = X_res.reshape(X_res.shape[0], 1, X_res.shape[1])\n",
        "\n",
        "# Split data into training and testing sets\n",
        "X_train, X_test, y_train, y_test = train_test_split(X_res_reshaped, y_res, test_size=0.2, random_state=42)\n",
        "\n",
        "\n",
        "def create_lstm_model():\n",
        "    model = Sequential()\n",
        "    model.add(LSTM(units=50, activation='relu', input_shape=(X_res_reshaped.shape[1], X_res_reshaped.shape[2])))\n",
        "    model.add(Dense(1, activation='sigmoid'))\n",
        "    model.compile(loss='binary_crossentropy', optimizer='adam', metrics=['accuracy'])\n",
        "    return model\n",
        "\n",
        "def create_bilstm_model():\n",
        "    model = Sequential()\n",
        "    model.add(Bidirectional(LSTM(units=50, activation='relu'), input_shape=(X_res_reshaped.shape[1], X_res_reshaped.shape[2])))\n",
        "    model.add(Dense(1, activation='sigmoid'))\n",
        "    model.compile(loss='binary_crossentropy', optimizer='adam', metrics=['accuracy'])\n",
        "    return model\n",
        "\n",
        "def create_gru_model():\n",
        "    model = Sequential()\n",
        "    model.add(GRU(units=50, activation='relu', input_shape=(X_res_reshaped.shape[1], X_res_reshaped.shape[2])))\n",
        "    model.add(Dense(1, activation='sigmoid'))\n",
        "    model.compile(loss='binary_crossentropy', optimizer='adam', metrics=['accuracy'])\n",
        "    return model\n",
        "\n",
        "def create_cnn_lstm_model():\n",
        "    model = Sequential()\n",
        "    model.add(Conv1D(filters=32, kernel_size=1, activation='relu', input_shape=(X_res_reshaped.shape[1], X_res_reshaped.shape[2])))\n",
        "    model.add(MaxPooling1D(pool_size=1))\n",
        "    model.add(LSTM(units=50, activation='relu'))\n",
        "    model.add(Dense(1, activation='sigmoid'))\n",
        "    model.compile(loss='binary_crossentropy', optimizer='adam', metrics=['accuracy'])\n",
        "    return model\n",
        "\n",
        "models = {\n",
        "    \"LSTM\": create_lstm_model(),\n",
        "    \"BiLSTM\": create_bilstm_model(),\n",
        "    \"GRU\": create_gru_model(),\n",
        "    \"CNN-LSTM\": create_cnn_lstm_model()\n",
        "}\n",
        "\n",
        "for name, model in models.items():\n",
        "    print(f\"Training {name}...\")\n",
        "    model.fit(X_train, y_train, epochs=50, batch_size=32, verbose=0)  # Train on the training data\n",
        "    y_pred = (model.predict(X_test) > 0.5).astype(int)  # Predict on the test data\n",
        "\n",
        "    print(f\"\\n=== {name} Performance ===\")\n",
        "    print(f\"Accuracy: {accuracy_score(y_test, y_pred):.2f}\")\n",
        "    print(f\"F1 Score: {f1_score(y_test, y_pred):.2f}\")\n",
        "    print(f\"ROC AUC: {roc_auc_score(y_test, y_pred):.2f}\")\n",
        "    print(\"\\nClassification Report:\")\n",
        "    print(classification_report(y_test, y_pred))"
      ]
    },
    {
      "cell_type": "code",
      "execution_count": 11,
      "id": "9175daf0",
      "metadata": {},
      "outputs": [
        {
          "name": "stderr",
          "output_type": "stream",
          "text": [
            "c:\\Users\\komik\\AppData\\Local\\Programs\\Python\\Python310\\lib\\site-packages\\keras\\src\\layers\\rnn\\rnn.py:200: UserWarning: Do not pass an `input_shape`/`input_dim` argument to a layer. When using Sequential models, prefer using an `Input(shape)` object as the first layer in the model instead.\n",
            "  super().__init__(**kwargs)\n"
          ]
        },
        {
          "name": "stdout",
          "output_type": "stream",
          "text": [
            "WARNING:tensorflow:5 out of the last 5 calls to <function TensorFlowTrainer.make_predict_function.<locals>.one_step_on_data_distributed at 0x000002008A3CCEE0> triggered tf.function retracing. Tracing is expensive and the excessive number of tracings could be due to (1) creating @tf.function repeatedly in a loop, (2) passing tensors with different shapes, (3) passing Python objects instead of tensors. For (1), please define your @tf.function outside of the loop. For (2), @tf.function has reduce_retracing=True option that can avoid unnecessary retracing. For (3), please refer to https://www.tensorflow.org/guide/function#controlling_retracing and https://www.tensorflow.org/api_docs/python/tf/function for  more details.\n",
            "\u001b[1m1/1\u001b[0m \u001b[32m━━━━━━━━━━━━━━━━━━━━\u001b[0m\u001b[37m\u001b[0m \u001b[1m0s\u001b[0m 83ms/step\n",
            "Accuracy: 0.94\n"
          ]
        }
      ],
      "source": [
        "# 1. Create the model\n",
        "model = create_lstm_model()\n",
        "\n",
        "# 2. Train the model\n",
        "model.fit(X_train, y_train, epochs=50, batch_size=32, verbose=0)\n",
        "\n",
        "# 3. Predict on the test set\n",
        "y_pred = (model.predict(X_test) > 0.5).astype(int)\n",
        "\n",
        "# 4. Print accuracy\n",
        "from sklearn.metrics import accuracy_score\n",
        "\n",
        "accuracy = accuracy_score(y_test, y_pred)\n",
        "print(f\"Accuracy: {accuracy:.2f}\")\n"
      ]
    },
    {
      "cell_type": "code",
      "execution_count": null,
      "id": "CnANhVNZ_tlN",
      "metadata": {
        "id": "CnANhVNZ_tlN"
      },
      "outputs": [],
      "source": []
    }
  ],
  "metadata": {
    "colab": {
      "provenance": []
    },
    "kaggle": {
      "accelerator": "none",
      "dataSources": [
        {
          "datasetId": 5334004,
          "sourceId": 8859848,
          "sourceType": "datasetVersion"
        }
      ],
      "dockerImageVersionId": 30886,
      "isGpuEnabled": false,
      "isInternetEnabled": true,
      "language": "python",
      "sourceType": "notebook"
    },
    "kernelspec": {
      "display_name": "Python 3",
      "language": "python",
      "name": "python3"
    },
    "language_info": {
      "codemirror_mode": {
        "name": "ipython",
        "version": 3
      },
      "file_extension": ".py",
      "mimetype": "text/x-python",
      "name": "python",
      "nbconvert_exporter": "python",
      "pygments_lexer": "ipython3",
      "version": "3.10.0"
    },
    "papermill": {
      "default_parameters": {},
      "duration": 14.403632,
      "end_time": "2025-02-15T15:32:20.676420",
      "environment_variables": {},
      "exception": null,
      "input_path": "__notebook__.ipynb",
      "output_path": "__notebook__.ipynb",
      "parameters": {},
      "start_time": "2025-02-15T15:32:06.272788",
      "version": "2.6.0"
    }
  },
  "nbformat": 4,
  "nbformat_minor": 5
}
